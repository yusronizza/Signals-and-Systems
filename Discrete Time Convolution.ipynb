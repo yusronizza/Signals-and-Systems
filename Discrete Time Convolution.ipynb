{
 "cells": [
  {
   "cell_type": "code",
   "execution_count": 3,
   "id": "528311b0",
   "metadata": {},
   "outputs": [
    {
     "name": "stdout",
     "output_type": "stream",
     "text": [
      "Discrete Time Convolution Calculator\n",
      "\n",
      "Your given matrix\n",
      "x[k] =  [4, 2, 3, 7, 4, 7, 12, 0]\n",
      "h[n] =  [2, 9, 11, 3] \n",
      "\n",
      "Convolution Result\n",
      "y[n] =  [8, 40, 68, 75, 110, 136, 152, 197, 153, 36, 0]\n"
     ]
    }
   ],
   "source": [
    "#Discrete Time Convolution Calculator\n",
    "#Yusron Izza F\n",
    "#Department of Electrical Engineering and Information Technology\n",
    "#Faculty of Engineering\n",
    "#Universitas Gadjah Mada\n",
    "\n",
    "x_input  = [4, 2, 3, 7, 4, 7, 12, 0]\n",
    "h_system = [2, 9, 11, 3]\n",
    "print(\"Discrete Time Convolution Calculator\\n\")\n",
    "xin, hsys = x_input, h_system\n",
    "print('Your given matrix')\n",
    "print(\"x[k] = \", xin)\n",
    "print(\"h[n] = \", hsys, \"\\n\")\n",
    "\n",
    "#The length of the data for performing convolution\n",
    "data_length = len(x_input) + len(h_system)\n",
    "\n",
    "#Adding Zero to avoid Array Indexing Out Of Range\n",
    "#Adding zero until the data_length\n",
    "x_input_with_zero = x_input\n",
    "h_system_with_zero = h_system\n",
    "for i in range(0, len(h_system)):\n",
    "    x_input_with_zero.append(0)\n",
    "for i in range(0, len(x_input)):\n",
    "    h_system_with_zero.append(0)\n",
    "\n",
    "#Y Output matrix\n",
    "y_output = []\n",
    "\n",
    "#Perform the Convolution\n",
    "#y[n] = sigma(x[k]*h{n-k})\n",
    "for i in range(0, data_length-1):\n",
    "    convolution = 0\n",
    "    sum_convolution = 0\n",
    "    for j in range(0, i+1):\n",
    "        #i-j is indexing h_system from behind or equal to h[n-k]\n",
    "        convolution = x_input[j]*h_system[i-j]\n",
    "        sum_convolution = sum_convolution + convolution\n",
    "    y_output.append(sum_convolution)\n",
    "    \n",
    "print('Convolution Result')\n",
    "print(\"y[n] = \", y_output)"
   ]
  },
  {
   "cell_type": "code",
   "execution_count": null,
   "id": "cbb3a96c",
   "metadata": {},
   "outputs": [],
   "source": []
  }
 ],
 "metadata": {
  "kernelspec": {
   "display_name": "Python 3",
   "language": "python",
   "name": "python3"
  },
  "language_info": {
   "codemirror_mode": {
    "name": "ipython",
    "version": 3
   },
   "file_extension": ".py",
   "mimetype": "text/x-python",
   "name": "python",
   "nbconvert_exporter": "python",
   "pygments_lexer": "ipython3",
   "version": "3.8.8"
  }
 },
 "nbformat": 4,
 "nbformat_minor": 5
}
